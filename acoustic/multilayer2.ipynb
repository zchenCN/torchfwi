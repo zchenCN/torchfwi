{
 "cells": [
  {
   "cell_type": "code",
   "execution_count": 1,
   "id": "e5d4cbf8-a1d9-4dc5-8bfb-1d75b25adc01",
   "metadata": {},
   "outputs": [],
   "source": [
    "import torch \n",
    "import numpy as np\n",
    "from matplotlib import pyplot as plt\n",
    "import time\n",
    "\n",
    "from solver import Solver\n",
    "from dataset import SytheticData\n",
    "from model import multilayer2, box_smooth\n",
    "from utils_plot import plot_model, plot_section"
   ]
  },
  {
   "cell_type": "code",
   "execution_count": 2,
   "id": "0fd57d73-bb36-4353-b5e5-86bcebdea93b",
   "metadata": {},
   "outputs": [
    {
     "name": "stdout",
     "output_type": "stream",
     "text": [
      "device=cuda\n"
     ]
    }
   ],
   "source": [
    "# Device \n",
    "if torch.cuda.is_available():\n",
    "    device = 'cuda'\n",
    "else:\n",
    "    device = 'cpu'\n",
    "print(f'device={device}')"
   ]
  },
  {
   "cell_type": "code",
   "execution_count": 3,
   "id": "f465cd4b-3dd2-441c-bc7a-e2c277acae8d",
   "metadata": {},
   "outputs": [
    {
     "name": "stdout",
     "output_type": "stream",
     "text": [
      "CFL number is about 0.27\n",
      "Number of grid points per wave length is about 26.7\n"
     ]
    }
   ],
   "source": [
    "# Mesh Configurations\n",
    "h = 0.015\n",
    "dt = 0.001\n",
    "nx = 200\n",
    "nz = 100\n",
    "nt = 1200\n",
    "f0 = 10\n",
    "t0 = 1/f0\n",
    "\n",
    "cfl = 4 * dt / h\n",
    "npw = 4 / f0 / h\n",
    "print('CFL number is about' + f' {cfl:.2f}')\n",
    "print('Number of grid points per wave length is about' + f' {npw:.1f}')"
   ]
  },
  {
   "cell_type": "code",
   "execution_count": 4,
   "id": "c169ed7a-fc7d-4eaa-a2c2-fc051bb950c6",
   "metadata": {},
   "outputs": [],
   "source": [
    "# Training configurations\n",
    "num_epochs = 120\n",
    "batch_size = 16\n",
    "# batch_size = 8\n",
    "learning_rate = 0.01\n",
    "shuffle = True"
   ]
  },
  {
   "cell_type": "code",
   "execution_count": 5,
   "id": "2d066816-c0e1-47ad-8f77-d494cb57dce3",
   "metadata": {},
   "outputs": [],
   "source": [
    "# Sources and receivers\n",
    "sx = np.arange(1, nx, 2)\n",
    "sources_xz = np.c_[np.ones_like(sx), sx]\n",
    "rx = np.arange(1, nx)\n",
    "receivers_xz = np.c_[2*np.ones_like(rx), rx]"
   ]
  },
  {
   "cell_type": "code",
   "execution_count": 6,
   "id": "45e50e85-8f89-487d-8fc6-ba848e417895",
   "metadata": {
    "tags": []
   },
   "outputs": [],
   "source": [
    "# True model\n",
    "wavespeed = multilayer2(nz, nx)\n",
    "wavespeed /= 1000"
   ]
  },
  {
   "cell_type": "code",
   "execution_count": 7,
   "id": "5e7e24da-db81-45e3-b9a7-7701b97cc97a",
   "metadata": {},
   "outputs": [
    {
     "data": {
      "text/plain": [
       "Text(0.5, 1.0, 'wavespeed')"
      ]
     },
     "execution_count": 7,
     "metadata": {},
     "output_type": "execute_result"
    },
    {
     "data": {
      "image/png": "[encoded data removed]",
      "text/plain": [
       "<Figure size 432x288 with 1 Axes>"
      ]
     },
     "metadata": {
      "needs_background": "light"
     },
     "output_type": "display_data"
    }
   ],
   "source": [
    "plt.imshow(wavespeed, aspect='equal')\n",
    "plt.title(r'wavespeed')"
   ]
  },
  {
   "cell_type": "code",
   "execution_count": 8,
   "id": "185cf968-9a8c-48b6-b95b-b8a2fa79aba7",
   "metadata": {},
   "outputs": [
    {
     "name": "stdout",
     "output_type": "stream",
     "text": [
      "wavespeed in (1.50, 3.50)\n"
     ]
    }
   ],
   "source": [
    "print('wavespeed in ({:.2f}, {:.2f})'.format(wavespeed.min(), wavespeed.max()))"
   ]
  },
  {
   "cell_type": "code",
   "execution_count": 9,
   "id": "e0040711-e340-4675-8b72-5e6c22f00f45",
   "metadata": {},
   "outputs": [],
   "source": [
    "wavespeed_true = torch.from_numpy(wavespeed).to(torch.float32)"
   ]
  },
  {
   "cell_type": "code",
   "execution_count": 10,
   "id": "b9198ad9-5cc3-46e5-912d-54ed7e4b9f83",
   "metadata": {},
   "outputs": [],
   "source": [
    "# Dataset and dataloader\n",
    "dataset = SytheticData(wavespeed_true, h, dt, nt, t0, f0, sources_xz, receivers_xz)\n",
    "dataloader = torch.utils.data.DataLoader(dataset, batch_size=batch_size, shuffle=shuffle)"
   ]
  },
  {
   "cell_type": "code",
   "execution_count": 11,
   "id": "0756198f-97d7-405d-8a95-1945478f0496",
   "metadata": {},
   "outputs": [],
   "source": [
    "# Initial model\n",
    "wavespeed_initial = box_smooth(wavespeed_true, 40, 40).to(device)\n",
    "wavespeed_initial_numpy = wavespeed_initial.clone().cpu().numpy()\n",
    "wavespeed_initial.requires_grad = True"
   ]
  },
  {
   "cell_type": "code",
   "execution_count": 12,
   "id": "01679261-f768-4ac1-9f97-13aa098ba3dc",
   "metadata": {},
   "outputs": [
    {
     "data": {
      "text/plain": [
       "<matplotlib.image.AxesImage at 0x7f7e20fd7370>"
      ]
     },
     "execution_count": 12,
     "metadata": {},
     "output_type": "execute_result"
    },
    {
     "data": {
      "image/png": "[encoded data removed]",
      "text/plain": [
       "<Figure size 432x288 with 1 Axes>"
      ]
     },
     "metadata": {
      "needs_background": "light"
     },
     "output_type": "display_data"
    }
   ],
   "source": [
    "plt.imshow(wavespeed_initial_numpy)"
   ]
  },
  {
   "cell_type": "code",
   "execution_count": 13,
   "id": "4000e617-8547-4b1f-8c9e-6133f38365cb",
   "metadata": {},
   "outputs": [],
   "source": [
    "# Initial solver\n",
    "solver_initial = Solver(wavespeed_initial, h, dt, nt, t0, f0, receivers_xz)"
   ]
  },
  {
   "cell_type": "code",
   "execution_count": 14,
   "id": "e39c7d8e-bb4b-4c3f-bf16-37ec74ed519b",
   "metadata": {},
   "outputs": [],
   "source": [
    "# Loss function\n",
    "criterion = torch.nn.MSELoss()"
   ]
  },
  {
   "cell_type": "code",
   "execution_count": 15,
   "id": "04ea0685-b6db-4581-8d47-50b23344899e",
   "metadata": {},
   "outputs": [],
   "source": [
    "# Optimizer \n",
    "all_params = [wavespeed_initial]\n",
    "optimizer = torch.optim.Adam(all_params, lr=learning_rate)\n",
    "# optimizer = torch.optim.RMSprop(all_params, lr=learning_rate)\n",
    "# optimizer = torch.optim.NAdam(all_params, lr=learning_rate)\n",
    "# optimizer = torch.optim.Adamax(all_params, lr=learning_rate)\n",
    "# optimizer = torch.optim.Adadelta(all_params, lr=learning_rate)\n",
    "# optimizer = torch.optim.Adagrad(all_params, lr=learning_rate)"
   ]
  },
  {
   "cell_type": "code",
   "execution_count": 16,
   "id": "6ee2b6ed-81c1-44d6-a955-e556784f20c5",
   "metadata": {},
   "outputs": [],
   "source": [
    "# Logger \n",
    "loss_list = []\n",
    "# loss_t_list = []\n",
    "# def  seis_t(v):\n",
    "#     v_t = (v[:, :, 1:] - v[:, :, :-1]) / dt\n",
    "#     return v_t"
   ]
  },
  {
   "cell_type": "code",
   "execution_count": null,
   "id": "aaee5039-34f6-4090-bdc2-7c65acd81ee8",
   "metadata": {
    "tags": []
   },
   "outputs": [
    {
     "name": "stdout",
     "output_type": "stream",
     "text": [
      "Epoch 1, Batch 1, loss=0.267352, time=11.34s\n",
      "Epoch 1, Batch 2, loss=0.213722, time=11.77s\n",
      "Epoch 1, Batch 3, loss=0.169117, time=11.84s\n",
      "Epoch 1, Batch 4, loss=0.128429, time=11.96s\n",
      "Epoch 1, Batch 5, loss=0.126323, time=12.53s\n",
      "Epoch 1, Batch 6, loss=0.119762, time=12.05s\n",
      "Epoch 1, Batch 7, loss=0.099154, time=13.00s\n",
      "Epoch 2, Batch 8, loss=0.109816, time=16.45s\n",
      "Epoch 2, Batch 9, loss=0.112680, time=16.83s\n",
      "Epoch 2, Batch 10, loss=0.104731, time=17.29s\n",
      "Epoch 2, Batch 11, loss=0.097136, time=17.35s\n",
      "Epoch 2, Batch 12, loss=0.092426, time=16.07s\n",
      "Epoch 2, Batch 13, loss=0.094906, time=16.68s\n",
      "Epoch 2, Batch 14, loss=0.093589, time=15.66s\n",
      "Epoch 3, Batch 15, loss=0.088287, time=16.19s\n",
      "Epoch 3, Batch 16, loss=0.073351, time=16.40s\n",
      "Epoch 3, Batch 17, loss=0.087056, time=16.32s\n",
      "Epoch 3, Batch 18, loss=0.079377, time=15.19s\n",
      "Epoch 3, Batch 19, loss=0.077968, time=16.45s\n",
      "Epoch 3, Batch 20, loss=0.069466, time=16.71s\n",
      "Epoch 3, Batch 21, loss=0.069281, time=15.04s\n",
      "Epoch 4, Batch 22, loss=0.061049, time=16.26s\n",
      "Epoch 4, Batch 23, loss=0.061726, time=16.41s\n",
      "Epoch 4, Batch 24, loss=0.048465, time=16.44s\n",
      "Epoch 4, Batch 25, loss=0.045533, time=15.24s\n",
      "Epoch 4, Batch 26, loss=0.045086, time=16.50s\n",
      "Epoch 4, Batch 27, loss=0.044454, time=16.71s\n",
      "Epoch 4, Batch 28, loss=0.038193, time=15.25s\n",
      "Epoch 5, Batch 29, loss=0.045404, time=16.20s\n",
      "Epoch 5, Batch 30, loss=0.042465, time=16.23s\n",
      "Epoch 5, Batch 31, loss=0.038203, time=16.26s\n",
      "Epoch 5, Batch 32, loss=0.035588, time=14.57s\n",
      "Epoch 5, Batch 33, loss=0.032582, time=16.79s\n",
      "Epoch 5, Batch 34, loss=0.034860, time=16.49s\n",
      "Epoch 5, Batch 35, loss=0.032605, time=15.27s\n",
      "Epoch 6, Batch 36, loss=0.030479, time=16.29s\n",
      "Epoch 6, Batch 37, loss=0.029168, time=16.36s\n",
      "Epoch 6, Batch 38, loss=0.024554, time=16.88s\n",
      "Epoch 6, Batch 39, loss=0.026542, time=15.22s\n",
      "Epoch 6, Batch 40, loss=0.023961, time=16.76s\n",
      "Epoch 6, Batch 41, loss=0.021945, time=16.73s\n",
      "Epoch 6, Batch 42, loss=0.016404, time=14.76s\n",
      "Epoch 7, Batch 43, loss=0.017072, time=16.75s\n",
      "Epoch 7, Batch 44, loss=0.019151, time=16.90s\n",
      "Epoch 7, Batch 45, loss=0.019565, time=17.11s\n",
      "Epoch 7, Batch 46, loss=0.018793, time=15.36s\n",
      "Epoch 7, Batch 47, loss=0.016449, time=16.51s\n",
      "Epoch 7, Batch 48, loss=0.016966, time=16.68s\n",
      "Epoch 7, Batch 49, loss=0.017617, time=15.37s\n",
      "Epoch 8, Batch 50, loss=0.014160, time=16.39s\n",
      "Epoch 8, Batch 51, loss=0.013647, time=16.36s\n",
      "Epoch 8, Batch 52, loss=0.011275, time=16.36s\n",
      "Epoch 8, Batch 53, loss=0.011435, time=15.25s\n",
      "Epoch 8, Batch 54, loss=0.011120, time=16.73s\n",
      "Epoch 8, Batch 55, loss=0.010824, time=16.42s\n",
      "Epoch 8, Batch 56, loss=0.009595, time=15.50s\n",
      "Epoch 9, Batch 57, loss=0.009227, time=16.24s\n",
      "Epoch 9, Batch 58, loss=0.008424, time=16.54s\n",
      "Epoch 9, Batch 59, loss=0.007971, time=16.57s\n",
      "Epoch 9, Batch 60, loss=0.008670, time=14.83s\n",
      "Epoch 9, Batch 61, loss=0.007847, time=16.41s\n",
      "Epoch 9, Batch 62, loss=0.007621, time=16.34s\n",
      "Epoch 9, Batch 63, loss=0.006862, time=15.03s\n",
      "Epoch 10, Batch 64, loss=0.006141, time=16.55s\n",
      "Epoch 10, Batch 65, loss=0.005868, time=16.48s\n",
      "Epoch 10, Batch 66, loss=0.005366, time=16.92s\n",
      "Epoch 10, Batch 67, loss=0.005328, time=14.86s\n",
      "Epoch 10, Batch 68, loss=0.004875, time=16.35s\n",
      "Epoch 10, Batch 69, loss=0.004740, time=16.75s\n",
      "Epoch 10, Batch 70, loss=0.003405, time=14.81s\n",
      "Epoch 11, Batch 71, loss=0.004006, time=16.41s\n",
      "Epoch 11, Batch 72, loss=0.003618, time=16.88s\n",
      "Epoch 11, Batch 73, loss=0.003624, time=17.10s\n",
      "Epoch 11, Batch 74, loss=0.003316, time=15.26s\n",
      "Epoch 11, Batch 75, loss=0.003227, time=16.55s\n",
      "Epoch 11, Batch 76, loss=0.003006, time=16.74s\n",
      "Epoch 11, Batch 77, loss=0.002735, time=15.49s\n",
      "Epoch 12, Batch 78, loss=0.002734, time=16.47s\n",
      "Epoch 12, Batch 79, loss=0.002295, time=17.43s\n",
      "Epoch 12, Batch 80, loss=0.002370, time=16.82s\n",
      "Epoch 12, Batch 81, loss=0.002176, time=15.23s\n",
      "Epoch 12, Batch 82, loss=0.002155, time=16.27s\n",
      "Epoch 12, Batch 83, loss=0.001973, time=16.95s\n",
      "Epoch 12, Batch 84, loss=0.001851, time=15.05s\n",
      "Epoch 13, Batch 85, loss=0.001623, time=16.63s\n",
      "Epoch 13, Batch 86, loss=0.001821, time=16.69s\n",
      "Epoch 13, Batch 87, loss=0.001565, time=16.62s\n",
      "Epoch 13, Batch 88, loss=0.001427, time=14.57s\n",
      "Epoch 13, Batch 89, loss=0.001600, time=16.19s\n",
      "Epoch 13, Batch 90, loss=0.001410, time=16.66s\n",
      "Epoch 13, Batch 91, loss=0.001250, time=15.44s\n",
      "Epoch 14, Batch 92, loss=0.001233, time=16.60s\n",
      "Epoch 14, Batch 93, loss=0.001258, time=16.55s\n",
      "Epoch 14, Batch 94, loss=0.001133, time=16.37s\n",
      "Epoch 14, Batch 95, loss=0.001122, time=14.77s\n",
      "Epoch 14, Batch 96, loss=0.001086, time=16.48s\n",
      "Epoch 14, Batch 97, loss=0.000965, time=16.67s\n",
      "Epoch 14, Batch 98, loss=0.001281, time=15.31s\n",
      "Epoch 15, Batch 99, loss=0.000955, time=16.49s\n",
      "Epoch 15, Batch 100, loss=0.000964, time=16.47s\n",
      "Epoch 15, Batch 101, loss=0.000843, time=17.10s\n",
      "Epoch 15, Batch 102, loss=0.000830, time=14.84s\n",
      "Epoch 15, Batch 103, loss=0.000904, time=16.59s\n",
      "Epoch 15, Batch 104, loss=0.000800, time=16.71s\n",
      "Epoch 15, Batch 105, loss=0.000693, time=15.73s\n",
      "Epoch 16, Batch 106, loss=0.000777, time=16.52s\n",
      "Epoch 16, Batch 107, loss=0.000697, time=16.77s\n",
      "Epoch 16, Batch 108, loss=0.000692, time=16.63s\n",
      "Epoch 16, Batch 109, loss=0.000716, time=14.55s\n",
      "Epoch 16, Batch 110, loss=0.000663, time=16.64s\n",
      "Epoch 16, Batch 111, loss=0.000723, time=16.42s\n",
      "Epoch 16, Batch 112, loss=0.000626, time=14.77s\n",
      "Epoch 17, Batch 113, loss=0.000670, time=16.74s\n",
      "Epoch 17, Batch 114, loss=0.000625, time=16.90s\n",
      "Epoch 17, Batch 115, loss=0.000576, time=16.74s\n",
      "Epoch 17, Batch 116, loss=0.000561, time=15.60s\n",
      "Epoch 17, Batch 117, loss=0.000537, time=16.91s\n",
      "Epoch 17, Batch 118, loss=0.000558, time=16.79s\n",
      "Epoch 17, Batch 119, loss=0.000471, time=15.33s\n",
      "Epoch 18, Batch 120, loss=0.000533, time=16.70s\n",
      "Epoch 18, Batch 121, loss=0.000474, time=16.43s\n",
      "Epoch 18, Batch 122, loss=0.000457, time=16.69s\n",
      "Epoch 18, Batch 123, loss=0.000472, time=15.81s\n",
      "Epoch 18, Batch 124, loss=0.000488, time=16.56s\n",
      "Epoch 18, Batch 125, loss=0.000513, time=16.64s\n",
      "Epoch 18, Batch 126, loss=0.000476, time=15.33s\n",
      "Epoch 19, Batch 127, loss=0.000435, time=16.44s\n",
      "Epoch 19, Batch 128, loss=0.000418, time=16.71s\n",
      "Epoch 19, Batch 129, loss=0.000398, time=16.49s\n",
      "Epoch 19, Batch 130, loss=0.000423, time=14.90s\n",
      "Epoch 19, Batch 131, loss=0.000411, time=16.57s\n",
      "Epoch 19, Batch 132, loss=0.000403, time=16.45s\n",
      "Epoch 19, Batch 133, loss=0.000509, time=15.51s\n",
      "Epoch 20, Batch 134, loss=0.000393, time=16.48s\n",
      "Epoch 20, Batch 135, loss=0.000350, time=16.67s\n",
      "Epoch 20, Batch 136, loss=0.000375, time=16.67s\n",
      "Epoch 20, Batch 137, loss=0.000374, time=14.82s\n",
      "Epoch 20, Batch 138, loss=0.000382, time=16.32s\n",
      "Epoch 20, Batch 139, loss=0.000371, time=16.91s\n",
      "Epoch 20, Batch 140, loss=0.000366, time=15.74s\n",
      "Epoch 21, Batch 141, loss=0.000328, time=16.28s\n",
      "Epoch 21, Batch 142, loss=0.000332, time=16.77s\n",
      "Epoch 21, Batch 143, loss=0.000344, time=16.60s\n",
      "Epoch 21, Batch 144, loss=0.000315, time=15.27s\n",
      "Epoch 21, Batch 145, loss=0.000325, time=16.78s\n",
      "Epoch 21, Batch 146, loss=0.000302, time=16.68s\n",
      "Epoch 21, Batch 147, loss=0.000318, time=14.92s\n",
      "Epoch 22, Batch 148, loss=0.000287, time=16.80s\n",
      "Epoch 22, Batch 149, loss=0.000280, time=16.55s\n",
      "Epoch 22, Batch 150, loss=0.000272, time=16.56s\n",
      "Epoch 22, Batch 151, loss=0.000269, time=15.18s\n",
      "Epoch 22, Batch 152, loss=0.000277, time=16.48s\n",
      "Epoch 22, Batch 153, loss=0.000325, time=16.56s\n",
      "Epoch 22, Batch 154, loss=0.000335, time=15.60s\n",
      "Epoch 23, Batch 155, loss=0.000266, time=16.42s\n",
      "Epoch 23, Batch 156, loss=0.000277, time=16.42s\n",
      "Epoch 23, Batch 157, loss=0.000250, time=16.43s\n",
      "Epoch 23, Batch 158, loss=0.000277, time=14.87s\n",
      "Epoch 23, Batch 159, loss=0.000246, time=16.38s\n",
      "Epoch 23, Batch 160, loss=0.000246, time=16.58s\n",
      "Epoch 23, Batch 161, loss=0.000288, time=15.22s\n",
      "Epoch 24, Batch 162, loss=0.000228, time=16.56s\n",
      "Epoch 24, Batch 163, loss=0.000241, time=16.56s\n",
      "Epoch 24, Batch 164, loss=0.000239, time=16.60s\n",
      "Epoch 24, Batch 165, loss=0.000236, time=15.15s\n",
      "Epoch 24, Batch 166, loss=0.000213, time=16.59s\n",
      "Epoch 24, Batch 167, loss=0.000233, time=16.71s\n",
      "Epoch 24, Batch 168, loss=0.000218, time=15.22s\n",
      "Epoch 25, Batch 169, loss=0.000215, time=16.38s\n",
      "Epoch 25, Batch 170, loss=0.000210, time=16.70s\n",
      "Epoch 25, Batch 171, loss=0.000199, time=16.34s\n",
      "Epoch 25, Batch 172, loss=0.000221, time=14.53s\n",
      "Epoch 25, Batch 173, loss=0.000221, time=16.12s\n",
      "Epoch 25, Batch 174, loss=0.000184, time=16.44s\n",
      "Epoch 25, Batch 175, loss=0.000217, time=14.79s\n",
      "Epoch 26, Batch 176, loss=0.000211, time=16.73s\n",
      "Epoch 26, Batch 177, loss=0.000192, time=16.58s\n",
      "Epoch 26, Batch 178, loss=0.000185, time=16.48s\n",
      "Epoch 26, Batch 179, loss=0.000183, time=14.70s\n",
      "Epoch 26, Batch 180, loss=0.000179, time=16.78s\n",
      "Epoch 26, Batch 181, loss=0.000174, time=16.37s\n",
      "Epoch 26, Batch 182, loss=0.000183, time=15.22s\n",
      "Epoch 27, Batch 183, loss=0.000158, time=16.68s\n",
      "Epoch 27, Batch 184, loss=0.000161, time=16.86s\n",
      "Epoch 27, Batch 185, loss=0.000170, time=16.77s\n",
      "Epoch 27, Batch 186, loss=0.000192, time=14.92s\n",
      "Epoch 27, Batch 187, loss=0.000164, time=16.38s\n",
      "Epoch 27, Batch 188, loss=0.000149, time=16.42s\n",
      "Epoch 27, Batch 189, loss=0.000150, time=15.16s\n",
      "Epoch 28, Batch 190, loss=0.000147, time=16.17s\n",
      "Epoch 28, Batch 191, loss=0.000147, time=16.59s\n",
      "Epoch 28, Batch 192, loss=0.000172, time=16.60s\n",
      "Epoch 28, Batch 193, loss=0.000151, time=14.65s\n",
      "Epoch 28, Batch 194, loss=0.000132, time=16.34s\n",
      "Epoch 28, Batch 195, loss=0.000132, time=16.54s\n",
      "Epoch 28, Batch 196, loss=0.000134, time=15.23s\n",
      "Epoch 29, Batch 197, loss=0.000150, time=16.32s\n",
      "Epoch 29, Batch 198, loss=0.000127, time=16.37s\n",
      "Epoch 29, Batch 199, loss=0.000132, time=16.69s\n",
      "Epoch 29, Batch 200, loss=0.000136, time=14.78s\n",
      "Epoch 29, Batch 201, loss=0.000129, time=16.61s\n",
      "Epoch 29, Batch 202, loss=0.000125, time=16.68s\n",
      "Epoch 29, Batch 203, loss=0.000116, time=15.22s\n",
      "Epoch 30, Batch 204, loss=0.000126, time=16.28s\n",
      "Epoch 30, Batch 205, loss=0.000110, time=16.42s\n",
      "Epoch 30, Batch 206, loss=0.000116, time=16.96s\n",
      "Epoch 30, Batch 207, loss=0.000121, time=14.43s\n",
      "Epoch 30, Batch 208, loss=0.000112, time=16.16s\n",
      "Epoch 30, Batch 209, loss=0.000137, time=16.62s\n",
      "Epoch 30, Batch 210, loss=0.000101, time=15.29s\n",
      "Epoch 31, Batch 211, loss=0.000106, time=16.22s\n",
      "Epoch 31, Batch 212, loss=0.000107, time=16.19s\n",
      "Epoch 31, Batch 213, loss=0.000105, time=16.52s\n",
      "Epoch 31, Batch 214, loss=0.000110, time=14.86s\n",
      "Epoch 31, Batch 215, loss=0.000115, time=16.15s\n",
      "Epoch 31, Batch 216, loss=0.000104, time=16.45s\n",
      "Epoch 31, Batch 217, loss=0.000093, time=15.02s\n",
      "Epoch 32, Batch 218, loss=0.000101, time=16.31s\n",
      "Epoch 32, Batch 219, loss=0.000093, time=16.46s\n",
      "Epoch 32, Batch 220, loss=0.000114, time=16.47s\n",
      "Epoch 32, Batch 221, loss=0.000107, time=14.33s\n",
      "Epoch 32, Batch 222, loss=0.000090, time=16.13s\n",
      "Epoch 32, Batch 223, loss=0.000094, time=16.51s\n",
      "Epoch 32, Batch 224, loss=0.000104, time=14.66s\n",
      "Epoch 33, Batch 225, loss=0.000089, time=16.23s\n",
      "Epoch 33, Batch 226, loss=0.000094, time=16.27s\n",
      "Epoch 33, Batch 227, loss=0.000086, time=16.48s\n",
      "Epoch 33, Batch 228, loss=0.000087, time=14.33s\n",
      "Epoch 33, Batch 229, loss=0.000106, time=16.38s\n",
      "Epoch 33, Batch 230, loss=0.000088, time=16.55s\n",
      "Epoch 33, Batch 231, loss=0.000097, time=14.88s\n",
      "Epoch 34, Batch 232, loss=0.000090, time=16.32s\n",
      "Epoch 34, Batch 233, loss=0.000096, time=16.47s\n",
      "Epoch 34, Batch 234, loss=0.000079, time=16.47s\n",
      "Epoch 34, Batch 235, loss=0.000081, time=14.49s\n",
      "Epoch 34, Batch 236, loss=0.000091, time=16.41s\n",
      "Epoch 34, Batch 237, loss=0.000083, time=16.72s\n",
      "Epoch 34, Batch 238, loss=0.000074, time=15.52s\n",
      "Epoch 35, Batch 239, loss=0.000088, time=16.66s\n",
      "Epoch 35, Batch 240, loss=0.000099, time=16.83s\n",
      "Epoch 35, Batch 241, loss=0.000079, time=16.66s\n",
      "Epoch 35, Batch 242, loss=0.000074, time=15.11s\n",
      "Epoch 35, Batch 243, loss=0.000077, time=16.68s\n",
      "Epoch 35, Batch 244, loss=0.000070, time=16.75s\n",
      "Epoch 35, Batch 245, loss=0.000065, time=15.39s\n",
      "Epoch 36, Batch 246, loss=0.000073, time=16.49s\n",
      "Epoch 36, Batch 247, loss=0.000078, time=16.85s\n",
      "Epoch 36, Batch 248, loss=0.000083, time=16.40s\n",
      "Epoch 36, Batch 249, loss=0.000067, time=14.55s\n",
      "Epoch 36, Batch 250, loss=0.000082, time=16.58s\n",
      "Epoch 36, Batch 251, loss=0.000071, time=17.07s\n",
      "Epoch 36, Batch 252, loss=0.000073, time=15.54s\n",
      "Epoch 37, Batch 253, loss=0.000078, time=16.75s\n",
      "Epoch 37, Batch 254, loss=0.000078, time=16.47s\n",
      "Epoch 37, Batch 255, loss=0.000069, time=16.34s\n",
      "Epoch 37, Batch 256, loss=0.000074, time=14.67s\n",
      "Epoch 37, Batch 257, loss=0.000069, time=16.43s\n",
      "Epoch 37, Batch 258, loss=0.000075, time=16.47s\n",
      "Epoch 37, Batch 259, loss=0.000070, time=14.86s\n",
      "Epoch 38, Batch 260, loss=0.000068, time=17.15s\n",
      "Epoch 38, Batch 261, loss=0.000066, time=16.57s\n",
      "Epoch 38, Batch 262, loss=0.000067, time=16.76s\n",
      "Epoch 38, Batch 263, loss=0.000065, time=15.20s\n",
      "Epoch 38, Batch 264, loss=0.000077, time=16.32s\n",
      "Epoch 38, Batch 265, loss=0.000056, time=16.48s\n",
      "Epoch 38, Batch 266, loss=0.000057, time=15.04s\n",
      "Epoch 39, Batch 267, loss=0.000060, time=16.61s\n",
      "Epoch 39, Batch 268, loss=0.000063, time=16.49s\n",
      "Epoch 39, Batch 269, loss=0.000055, time=16.52s\n",
      "Epoch 39, Batch 270, loss=0.000053, time=14.92s\n",
      "Epoch 39, Batch 271, loss=0.000062, time=16.31s\n",
      "Epoch 39, Batch 272, loss=0.000064, time=16.36s\n",
      "Epoch 39, Batch 273, loss=0.000057, time=14.74s\n",
      "Epoch 40, Batch 274, loss=0.000060, time=16.62s\n",
      "Epoch 40, Batch 275, loss=0.000063, time=16.38s\n",
      "Epoch 40, Batch 276, loss=0.000051, time=16.48s\n",
      "Epoch 40, Batch 277, loss=0.000051, time=14.90s\n",
      "Epoch 40, Batch 278, loss=0.000051, time=16.23s\n"
     ]
    }
   ],
   "source": [
    "# Training\n",
    "time_begin_train = time.time()\n",
    "n_batch = 0\n",
    "for n_epoch in range(num_epochs):\n",
    "    for i, data in enumerate(dataloader):\n",
    "        n_batch += 1\n",
    "        time_begin = time.time()\n",
    "        sx, obs = data \n",
    "        optimizer.zero_grad()\n",
    "        syn = solver_initial.step(sx)\n",
    "        # syn_t = seis_t(syn)\n",
    "        # obs_t = seis_t(obs)\n",
    "        loss_val = criterion(syn, obs.to(device))\n",
    "        #l oss_t_val = criterion(syn_t, obs_t.to(device))\n",
    "        # loss_total_val = loss_val + loss_t_val\n",
    "        # loss_total_val.backward()\n",
    "        loss_val.backward()\n",
    "        loss_list.append(loss_val.item())\n",
    "        # loss_t_list.append(loss_val.item())\n",
    "        optimizer.step()\n",
    "        time_end = time.time()\n",
    "        print(f\"Epoch {n_epoch+1}, Batch {n_batch}, loss={loss_val:.6f}, time={time_end - time_begin:.2f}s\")\n",
    "        # print(f\"Epoch {n_epoch+1}, Batch {n_batch}, loss_total={loss_total_val:.6f}, loss={loss_val:.6f}, loss_t={loss_t_val:.6f}, time={time_end - time_begin:.2f}s\")\n",
    "time_end_train = time.time()\n",
    "print(f'Total cost time {time_end_train - time_begin_train:.2f}s')"
   ]
  },
  {
   "cell_type": "code",
   "execution_count": null,
   "id": "8dcbc871-a7c1-4129-8b63-daee428cd39d",
   "metadata": {},
   "outputs": [],
   "source": [
    "wavespeed_inversion = wavespeed_initial.detach().cpu().numpy()"
   ]
  },
  {
   "cell_type": "code",
   "execution_count": null,
   "id": "22af9a8a-d3ab-44db-a305-d242ee46146c",
   "metadata": {},
   "outputs": [],
   "source": [
    "plt.imshow(wavespeed_inversion)"
   ]
  },
  {
   "cell_type": "code",
   "execution_count": null,
   "id": "f88550bf-a7ce-4f65-9a37-60dcaf0363e1",
   "metadata": {},
   "outputs": [],
   "source": [
    "plt.imshow(wavespeed_initial_numpy)"
   ]
  },
  {
   "cell_type": "code",
   "execution_count": null,
   "id": "a4a02419-abf6-40a6-9840-9f8e9defb2e3",
   "metadata": {},
   "outputs": [],
   "source": [
    "ncol = 100\n",
    "plt.plot(wavespeed_inversion[:, ncol], label='inversion')\n",
    "plt.plot(wavespeed_true[:, ncol], label='true')\n",
    "plt.plot(wavespeed_initial_numpy[:, ncol], label='initial')\n",
    "plt.legend()"
   ]
  },
  {
   "cell_type": "code",
   "execution_count": null,
   "id": "701e8928-ad33-4287-a92b-52d6149edc50",
   "metadata": {},
   "outputs": [],
   "source": [
    "plt.plot(loss_list)\n",
    "plt.yscale('log')"
   ]
  },
  {
   "cell_type": "code",
   "execution_count": null,
   "id": "d5860a78-81f7-4986-81f3-611becbff957",
   "metadata": {},
   "outputs": [],
   "source": [
    "path = './data/multilayer2_/'#!!!!\n",
    "np.save(path+'wavespeed_true', wavespeed)\n",
    "np.save(path+'wavespeed_initial', wavespeed_initial_numpy)\n",
    "np.save(path+'wavespeed_inversion', wavespeed_inversion)\n",
    "np.save(path+'loss', np.array(loss_list))\n",
    "# np.save(path+'loss_t', np.array(loss_t_list))"
   ]
  },
  {
   "cell_type": "code",
   "execution_count": null,
   "id": "cf529c19-608c-4a92-ab68-336b33ae351e",
   "metadata": {},
   "outputs": [],
   "source": []
  }
 ],
 "metadata": {
  "kernelspec": {
   "display_name": "Python 3 (ipykernel)",
   "language": "python",
   "name": "python3"
  },
  "language_info": {
   "codemirror_mode": {
    "name": "ipython",
    "version": 3
   },
   "file_extension": ".py",
   "mimetype": "text/x-python",
   "name": "python",
   "nbconvert_exporter": "python",
   "pygments_lexer": "ipython3",
   "version": "3.8.10"
  }
 },
 "nbformat": 4,
 "nbformat_minor": 5
}
